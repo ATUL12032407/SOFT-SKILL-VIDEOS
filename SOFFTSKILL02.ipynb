{
 "cells": [
  {
   "cell_type": "markdown",
   "id": "7ba9d7dc-57da-4bb6-9049-02201514ddd4",
   "metadata": {},
   "source": [
    "Soft Skills:- They are skills you need to survive in life!!!"
   ]
  },
  {
   "cell_type": "markdown",
   "id": "42755c78-9bcb-43d2-b031-218746b2b4c9",
   "metadata": {},
   "source": [
    "Soft skills helps in stress management and inable u to fit at their workplace."
   ]
  },
  {
   "cell_type": "markdown",
   "id": "0b85f2ec-da6d-4a74-a19e-4d5390161cf6",
   "metadata": {},
   "source": [
    "Hard Skills:- Directly matter to grab job "
   ]
  },
  {
   "cell_type": "markdown",
   "id": "ff342ca4-feed-46ff-b10f-d3709766a570",
   "metadata": {},
   "source": [
    "Soft Skills promote productivity,efficiency and effective communication in the workplace,regardless of your profession.           Communication,Teamwork,Problem Solving, Dependability, Critical Thinking,Positivity, Organization,Creativity,Adaptability,Conflict resolution"
   ]
  },
  {
   "cell_type": "markdown",
   "id": "f60d7fb7-7218-4ac8-bb52-d6312821d091",
   "metadata": {},
   "source": [
    "Dressing Sense might be too good."
   ]
  },
  {
   "cell_type": "markdown",
   "id": "29e8c3f7-e1a4-4177-bca5-c6b1f4c476b4",
   "metadata": {},
   "source": [
    "Loud Pitch is not allowed.This is biggest problem for most of the people they seem to be fighting and quarelling."
   ]
  },
  {
   "cell_type": "markdown",
   "id": "7939ddd3-b165-43e7-abe4-2e5fcbe48286",
   "metadata": {},
   "source": [
    "Leave ur ego behind."
   ]
  },
  {
   "cell_type": "markdown",
   "id": "2d63e630-5400-45b0-96f2-9f566f8d2b74",
   "metadata": {},
   "source": [
    "Follow \"Raat gyi baat gyi.\" "
   ]
  },
  {
   "cell_type": "markdown",
   "id": "c5f48c5a-1d4b-4cb6-9619-115c4a0df3ee",
   "metadata": {},
   "source": [
    "Self Evaluation."
   ]
  },
  {
   "cell_type": "markdown",
   "id": "41ea3f0a-7223-486c-ba09-da51c0e31d90",
   "metadata": {},
   "source": [
    "BHAG's :- Long Terms Goals "
   ]
  },
  {
   "cell_type": "markdown",
   "id": "5455ae9f-ae3b-4833-bbde-e309074abb81",
   "metadata": {},
   "source": [
    "Communication:- Active Listener,Facial Expression,Body Langauge,Entirely and abilityall things,Listening,Speaking,Obsrving etc."
   ]
  },
  {
   "cell_type": "markdown",
   "id": "29bbd997-d8d6-4ab9-bfed-43583878c6a0",
   "metadata": {},
   "source": [
    "Written,Visual,Verbal(Oral), Non-Verbal skills."
   ]
  },
  {
   "cell_type": "markdown",
   "id": "516c60a7-ef0c-471f-a881-d16cff10b7ac",
   "metadata": {},
   "source": [
    "If interviewer is not indian then say his her goodname that builds a rapo for you and for indian add sir/mam in last."
   ]
  },
  {
   "cell_type": "markdown",
   "id": "902dc881-aca6-4d64-8715-8ad88f3d5d13",
   "metadata": {},
   "source": [
    "Donot give from room ,NC in the background"
   ]
  },
  {
   "cell_type": "markdown",
   "id": "77fe9cfc-9251-4bb7-ad34-4ad7749dbbbd",
   "metadata": {},
   "source": [
    "Verbal Communication:-"
   ]
  },
  {
   "cell_type": "markdown",
   "id": "b1911f18-c3d0-4b3f-9441-01426f08c709",
   "metadata": {},
   "source": [
    "Series:-The Animmey/ Family Guy/Men,The Office"
   ]
  },
  {
   "cell_type": "markdown",
   "id": "f793ee85-a887-4691-a43d-4b70036e44d0",
   "metadata": {},
   "source": [
    "Non-Verbal Communication:-"
   ]
  },
  {
   "cell_type": "markdown",
   "id": "d6a7194f-7ae8-4fd9-a00a-b87092e58055",
   "metadata": {},
   "source": [
    "I.Q. & E.Q."
   ]
  },
  {
   "cell_type": "markdown",
   "id": "02d2449f-5561-4378-99d7-002394b1db4d",
   "metadata": {},
   "source": [
    "I.Q. AND E.Q. Checklist"
   ]
  },
  {
   "cell_type": "code",
   "execution_count": null,
   "id": "65e54050-6174-4aba-a737-0cd1ece98d0e",
   "metadata": {},
   "outputs": [],
   "source": []
  }
 ],
 "metadata": {
  "kernelspec": {
   "display_name": "Python 3 (ipykernel)",
   "language": "python",
   "name": "python3"
  },
  "language_info": {
   "codemirror_mode": {
    "name": "ipython",
    "version": 3
   },
   "file_extension": ".py",
   "mimetype": "text/x-python",
   "name": "python",
   "nbconvert_exporter": "python",
   "pygments_lexer": "ipython3",
   "version": "3.10.8"
  }
 },
 "nbformat": 4,
 "nbformat_minor": 5
}
