{
 "cells": [
  {
   "cell_type": "markdown",
   "id": "45a39595-58f7-447c-893b-837e61938d9d",
   "metadata": {},
   "source": [
    "Reply to all is not a good idea."
   ]
  },
  {
   "cell_type": "markdown",
   "id": "cdcca5f3-85fb-4411-bad3-2ea51488e160",
   "metadata": {},
   "source": [
    "Commmunication skills is very important soft skill so introduction question be prepare and start reading english newspaper and watch without subtitles u-tube video in english."
   ]
  },
  {
   "cell_type": "markdown",
   "id": "164b99e9-34b6-442c-bb07-75cf697334f2",
   "metadata": {},
   "source": [
    "Ascent doesn't matter but speak with a less speech of rate."
   ]
  },
  {
   "cell_type": "markdown",
   "id": "ad703d86-4f83-4bfa-840b-74398fab8e24",
   "metadata": {},
   "source": [
    "Start communicating with people."
   ]
  },
  {
   "cell_type": "markdown",
   "id": "ba8f07bc-162e-4c2d-a6e3-a943f0677445",
   "metadata": {},
   "source": [
    "Pi.ai tools to communicate in english via ai."
   ]
  },
  {
   "cell_type": "markdown",
   "id": "43675926-bfdc-40dc-bb40-d95ea87b4e29",
   "metadata": {},
   "source": [
    "vocab can be developed by reading ,books etc."
   ]
  },
  {
   "cell_type": "markdown",
   "id": "6c5e972c-3019-41c4-8fd1-8c4a8f5b9c47",
   "metadata": {},
   "source": [
    "Teamwork is very important so employer's are expected to be good team player. "
   ]
  },
  {
   "cell_type": "markdown",
   "id": "e630d20e-df2e-4f39-8a86-eaea18588e5b",
   "metadata": {},
   "source": [
    "U will be able to ur workdone very smooth and u will be able to learn more and will be more creativity which eventually enhanches job."
   ]
  },
  {
   "cell_type": "markdown",
   "id": "d0f9c848-2e56-48d5-be6b-45678533d906",
   "metadata": {},
   "source": [
    "How to stop fumbling ?"
   ]
  },
  {
   "cell_type": "markdown",
   "id": "f19e82d9-c3bd-420c-94af-2af0826fef94",
   "metadata": {},
   "source": [
    "Try speaking slow if u are fumbling during u speaks."
   ]
  },
  {
   "cell_type": "markdown",
   "id": "58135d74-bd06-4d4a-8097-81bebbb7cd29",
   "metadata": {},
   "source": [
    "Debating is a very good practice but control on pitch part."
   ]
  },
  {
   "cell_type": "markdown",
   "id": "20533d17-aa58-469a-8593-5c1996d8bc79",
   "metadata": {},
   "source": [
    "Positive Thinking and time-management."
   ]
  },
  {
   "cell_type": "markdown",
   "id": "ad524997-1031-436d-ad30-2940dd5ee963",
   "metadata": {},
   "source": [
    "Atomic Habits is  very nice book and you can learn from that book and how to encounter procastination."
   ]
  },
  {
   "cell_type": "markdown",
   "id": "8b99dfcf-07b1-4737-9151-ef380608d05c",
   "metadata": {},
   "source": [
    "G.D.:- In Campus Interviews"
   ]
  },
  {
   "cell_type": "markdown",
   "id": "eb4c938d-7d08-4b97-84bb-f83234fffef1",
   "metadata": {},
   "source": [
    "Atomic Habits says that if u don't repeat any habit then that is not bad habit."
   ]
  },
  {
   "cell_type": "markdown",
   "id": "9c7e6580-e3c6-477e-b6b7-4210cc63f3c5",
   "metadata": {},
   "source": [
    "Try to track yourself throughout whole day and make a scheduled time-table. Give me timefor yourself and be punctual and use that book it will help u to encounter these problems."
   ]
  },
  {
   "cell_type": "markdown",
   "id": "fbc715b4-b997-4c34-8541-87ca7779a613",
   "metadata": {},
   "source": [
    "Problem Solving Skills:- REAL Life problems included your projects,client issue's."
   ]
  },
  {
   "cell_type": "markdown",
   "id": "7ff239f5-43de-4fb4-8fa1-7cca8853cad6",
   "metadata": {},
   "source": [
    "How to deal such kind of people ?"
   ]
  },
  {
   "cell_type": "markdown",
   "id": "91fcd314-382e-4c34-b3aa-66a1dd567269",
   "metadata": {},
   "source": [
    "Try to solve using communication and also collaboration."
   ]
  },
  {
   "cell_type": "markdown",
   "id": "0d86c580-e031-48b9-a6f1-76c05fc698dc",
   "metadata": {},
   "source": [
    "Communication :-Active communication and soft skills are too important and soft skills are interconnected to each other."
   ]
  },
  {
   "cell_type": "markdown",
   "id": "123c294c-a4b0-4a12-811e-eb45ae651d3a",
   "metadata": {},
   "source": [
    "Agenda Of the day:- Job Hunting Part ?"
   ]
  },
  {
   "cell_type": "markdown",
   "id": "0aa8fac8-2738-432e-bfe1-209a1e649e44",
   "metadata": {},
   "source": [
    "(i):- Job Hunting Strategies ?"
   ]
  },
  {
   "cell_type": "markdown",
   "id": "32f99506-3f78-45db-9923-8c118785a891",
   "metadata": {},
   "source": [
    "(ii):- Job Search Pyramid ?"
   ]
  },
  {
   "cell_type": "markdown",
   "id": "86c38ff9-94c0-4538-8d0f-d3ee7e00c738",
   "metadata": {},
   "source": [
    "(iii):- Linkedin Profile Optimization ?"
   ]
  },
  {
   "cell_type": "markdown",
   "id": "19cdd31e-a38d-4c76-9632-19db76e739a9",
   "metadata": {},
   "source": [
    "(iv):- Do and Don't ?"
   ]
  },
  {
   "cell_type": "markdown",
   "id": "a24ea475-9517-4fb1-a86e-a25f0335557f",
   "metadata": {},
   "source": [
    "(V):- Utilizing Naukri and Other Job Portals ?"
   ]
  },
  {
   "cell_type": "markdown",
   "id": "8cdd4152-c9e8-4399-bd1d-6d33285e436d",
   "metadata": {},
   "source": [
    "Job Hunting?\n",
    "1. Updating and Creating a convincing resume \n",
    "2. Network Building\n",
    "3. Registering on Job Portals.\n",
    "4. Asking for a referral.\n",
    "5. Taking part in Job Fair.\n",
    "6. Preparing for Interviews.\n",
    "7. Application Follow-up.\n",
    "8. Making Cold Calls.\n",
    "9. Visiting Company Website.\n",
    "10. Researching about companies."
   ]
  },
  {
   "cell_type": "markdown",
   "id": "30a713cc-07e0-426f-988f-bcfe1ab34bf5",
   "metadata": {},
   "source": [
    "Job Portals: Indeed ,Naukari,Ashine ,Internshala,Linkedin"
   ]
  },
  {
   "cell_type": "markdown",
   "id": "f137c02f-9582-465b-a47e-811527accc48",
   "metadata": {},
   "source": [
    "Pyramid for Job Hunting ?"
   ]
  },
  {
   "cell_type": "markdown",
   "id": "3fbdb6e5-8397-4d51-9b83-90f3495df5b3",
   "metadata": {},
   "source": [
    "How to ask for a job referrel ?\n",
    "\n",
    "\n",
    "Ans:- Go to company website and get reqistion id from official website and approach their employees and send your resume and then this is requisiton id etc. and please refer me.I.E. ask for a referrel professionally."
   ]
  },
  {
   "cell_type": "markdown",
   "id": "55cce0ab-eaaf-4136-a952-f4d355d32e31",
   "metadata": {},
   "source": [
    "Job Fairs:- Try to be part of job fair."
   ]
  },
  {
   "cell_type": "markdown",
   "id": "877c85a1-3b79-4279-b620-4a10fc192221",
   "metadata": {},
   "source": [
    "Searching For a company :- Before joining the company research about company culture ,atmosphere location, accomondation and your personality adoptation in that location etc."
   ]
  },
  {
   "cell_type": "markdown",
   "id": "d2cbd41d-a70a-495b-a3af-0f42a72bc3b8",
   "metadata": {},
   "source": [
    "Preparing for interview question :- \n",
    "\n",
    "Prepare for atleast introductory part specially who have propblem in communication. Practise mock interview with your friend and u will get a push as well and communication skills will also improved.\n",
    "\n",
    "    Use yoodli.ai to prepare for interviews."
   ]
  },
  {
   "cell_type": "markdown",
   "id": "6101737e-112b-47f8-ab6c-c115bd169b06",
   "metadata": {},
   "source": [
    "Making Cold Calls :- Do message and try to reach H.R. and said and conveince to H.R. and create a opportunity for your interview .It's completely on YOU to create for your interview calls.\n",
    "Make cold calls to H.R. between 11 A.M.- 5 p.m. \n",
    "Maintain Confidence and check that is actually recruiter or not."
   ]
  },
  {
   "cell_type": "markdown",
   "id": "804f2608-bdf9-40a0-9d69-884fd48cc427",
   "metadata": {},
   "source": [
    "Application follow-up :- Send multiple mails using different email account. \n",
    "   \n",
    "      In India don't send rejection mail even but always send folllow up email."
   ]
  },
  {
   "cell_type": "markdown",
   "id": "b6267b6a-be18-42a6-9491-3fe7ef20a223",
   "metadata": {},
   "source": [
    "Job Pyramid:- We develope misconception of Job Pyramids so  be aware about exact path."
   ]
  },
  {
   "cell_type": "markdown",
   "id": "a6f7afe8-31d6-4ecf-ada3-4a730c908026",
   "metadata": {},
   "source": [
    "Linkedin Profile Optimization :-Effective Profile Picture ,Backcover,Linkedin Headline, Showcase your expertise,Experience and Skills."
   ]
  },
  {
   "cell_type": "markdown",
   "id": "d2bb93fc-40f2-46db-b14c-e21cb7db2125",
   "metadata": {},
   "source": [
    "Don't write in 3rd Person and try to make it cachey and u are brand in itself don't use emogi add achievements all these stuffs."
   ]
  },
  {
   "cell_type": "markdown",
   "id": "76bdd7be-5ef7-4a7a-b1e9-067cae506305",
   "metadata": {},
   "source": [
    "Resume Building Sessions :- will discussed later."
   ]
  },
  {
   "cell_type": "code",
   "execution_count": null,
   "id": "649c643e-171b-4aee-b89a-1f0f9471facf",
   "metadata": {},
   "outputs": [],
   "source": []
  }
 ],
 "metadata": {
  "kernelspec": {
   "display_name": "Python 3 (ipykernel)",
   "language": "python",
   "name": "python3"
  },
  "language_info": {
   "codemirror_mode": {
    "name": "ipython",
    "version": 3
   },
   "file_extension": ".py",
   "mimetype": "text/x-python",
   "name": "python",
   "nbconvert_exporter": "python",
   "pygments_lexer": "ipython3",
   "version": "3.10.8"
  }
 },
 "nbformat": 4,
 "nbformat_minor": 5
}
